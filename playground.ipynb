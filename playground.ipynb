{
 "cells": [
  {
   "cell_type": "code",
   "execution_count": 5,
   "id": "1a4e4e2a",
   "metadata": {},
   "outputs": [
    {
     "data": {
      "image/png": "[encoded data removed]",
      "text/plain": [
       "<Figure size 640x480 with 1 Axes>"
      ]
     },
     "metadata": {},
     "output_type": "display_data"
    }
   ],
   "source": [
    "import keras\n",
    "import numpy as np\n",
    "import matplotlib.pyplot as plt\n",
    "\n",
    "(X, Y), (_, _) = keras.datasets.mnist.load_data()\n",
    "X_b = np.where(X < 64, 0, 1)\n",
    "plt.imshow(X[0], cmap=\"gray\")\n",
    "plt.axis(\"off\")\n",
    "plt.savefig(\"mnist.png\", bbox_inches=\"tight\", pad_inches=0.1, dpi=300)"
   ]
  },
  {
   "cell_type": "code",
   "execution_count": 6,
   "id": "facd0b0c",
   "metadata": {},
   "outputs": [
    {
     "data": {
      "image/png": "[encoded data removed]",
      "text/plain": [
       "<Figure size 640x480 with 1 Axes>"
      ]
     },
     "metadata": {},
     "output_type": "display_data"
    }
   ],
   "source": [
    "plt.imshow(X_b[0], cmap=\"gray\")\n",
    "plt.axis(\"off\")\n",
    "plt.savefig(\"mnist_binary.png\", bbox_inches=\"tight\", pad_inches=0.1, dpi=300)\n",
    "plt.show()"
   ]
  },
  {
   "cell_type": "code",
   "execution_count": 7,
   "id": "502a14e2",
   "metadata": {},
   "outputs": [
    {
     "name": "stdout",
     "output_type": "stream",
     "text": [
      "入力 x のShape: torch.Size([4, 3, 32, 32])\n",
      "パラメータ t のShape: torch.Size([4, 64])\n",
      "出力 y のShape: torch.Size([4, 3, 32, 32])\n",
      "\n",
      "✅ 成功: 出力 y は入力 x と同じShapeになりました。\n"
     ]
    }
   ],
   "source": [
    "import torch\n",
    "import torch.nn as nn\n",
    "\n",
    "class TimeEmbeddedConvBlock(nn.Module):\n",
    "    \"\"\"\n",
    "    「畳み込み + tの注入 + 正規化 + 活性化」を行う基本ブロック\n",
    "    \"\"\"\n",
    "    def __init__(self, in_channels, out_channels, time_emb_dim, groups=8):\n",
    "        super().__init__()\n",
    "\n",
    "        # 空間サイズを維持するための畳み込み (padding=1, kernel_size=3)\n",
    "        self.conv = nn.Conv2d(in_channels, out_channels, kernel_size=3, padding=1)\n",
    "\n",
    "        # 時間埋め込みを加工して注入するための全結合層\n",
    "        self.time_mlp = nn.Linear(time_emb_dim, out_channels)\n",
    "\n",
    "        # 正規化と活性化\n",
    "        self.norm = nn.GroupNorm(groups, out_channels)\n",
    "        self.act = nn.SiLU()\n",
    "\n",
    "    def forward(self, x, t_emb):\n",
    "        \"\"\"\n",
    "        Args:\n",
    "            x (Tensor): 画像の特徴マップ (Batch, In_Channels, H, W)\n",
    "            t_emb (Tensor): 加工済みの時間/パラメータ埋め込み (Batch, time_emb_dim)\n",
    "        \"\"\"\n",
    "        # 1. 畳み込み\n",
    "        h = self.conv(x)\n",
    "\n",
    "        # 2. t の情報を加工して加算\n",
    "        t_proj = self.time_mlp(t_emb)\n",
    "        # t_proj を (B, C) -> (B, C, 1, 1) に変形して加算できるようにする\n",
    "        h = h + t_proj.unsqueeze(-1).unsqueeze(-1)\n",
    "\n",
    "        # 3. 正規化と活性化\n",
    "        h = self.norm(h)\n",
    "        h = self.act(h)\n",
    "\n",
    "        return h\n",
    "\n",
    "class SimpleTimeNN(nn.Module):\n",
    "    \"\"\"\n",
    "    y = NN(x, t) を表現するネットワーク。\n",
    "    Conv層を3つ重ね、各層で t の情報を注入する。\n",
    "    \"\"\"\n",
    "    def __init__(self, img_channels=3, t_dim=64, model_channels=64):\n",
    "        super().__init__()\n",
    "\n",
    "        # パラメータ t を加工するための MLP\n",
    "        # t_dim次元のtを受け取り、内部表現の次元 (model_channels * 4) に変換\n",
    "        time_emb_dim = model_channels * 4\n",
    "        self.time_mlp = nn.Sequential(\n",
    "            nn.Linear(t_dim, time_emb_dim),\n",
    "            nn.SiLU(),\n",
    "            nn.Linear(time_emb_dim, time_emb_dim)\n",
    "        )\n",
    "\n",
    "        # 最初の畳み込み層\n",
    "        self.initial_conv = nn.Conv2d(img_channels, model_channels, kernel_size=1)\n",
    "\n",
    "        # 畳み込みブロックを3つ重ねる\n",
    "        self.conv_blocks = nn.Sequential(\n",
    "            TimeEmbeddedConvBlock(model_channels, model_channels, time_emb_dim),\n",
    "            TimeEmbeddedConvBlock(model_channels, model_channels, time_emb_dim),\n",
    "            TimeEmbeddedConvBlock(model_channels, model_channels, time_emb_dim)\n",
    "        )\n",
    "\n",
    "        # 最後の畳み込み層 (チャンネル数を元の画像のチャンネル数に戻す)\n",
    "        self.final_conv = nn.Conv2d(model_channels, img_channels, kernel_size=1)\n",
    "\n",
    "    def forward(self, x, t):\n",
    "        \"\"\"\n",
    "        Args:\n",
    "            x (Tensor): 入力テンソル (Batch, Channels, H, W)\n",
    "            t (Tensor): m次元のパラメータ (Batch, t_dim)\n",
    "        \"\"\"\n",
    "        # 1. パラメータ t を加工して埋め込み表現 t_emb を得る\n",
    "        t_emb = self.time_mlp(t)\n",
    "\n",
    "        # 2. 初期畳み込み\n",
    "        h = self.initial_conv(x)\n",
    "\n",
    "        # 3. 3つのブロックを順に適用\n",
    "        #    各ブロックに加工済みの t_emb を渡す\n",
    "        for block in self.conv_blocks:\n",
    "            h = block(h, t_emb)\n",
    "\n",
    "        # 4. 最終畳み込みで出力テンソルの形を x と同じにする\n",
    "        y = self.final_conv(h)\n",
    "\n",
    "        return y\n",
    "\n",
    "# === 使用例 ===\n",
    "if __name__ == '__main__':\n",
    "    # --- パラメータ設定 ---\n",
    "    batch_size = 4\n",
    "    image_size = 32\n",
    "    img_channels = 3  # RGB画像\n",
    "    t_dimension = 64  # パラメータtの次元数m\n",
    "\n",
    "    # --- モデルのインスタンス化 ---\n",
    "    model = SimpleTimeNN(\n",
    "        img_channels=img_channels,\n",
    "        t_dim=t_dimension,\n",
    "        model_channels=128 # ネットワーク内部のチャンネル数\n",
    "    )\n",
    "\n",
    "    # --- ダミーデータの作成 ---\n",
    "    # x: (B, C, H, W) の画像テンソル\n",
    "    x = torch.randn(batch_size, img_channels, image_size, image_size)\n",
    "    # t: (B, m) のパラメータベクトル\n",
    "    t = torch.randn(batch_size, t_dimension)\n",
    "\n",
    "    # --- 順伝播の実行 ---\n",
    "    y = model(x, t)\n",
    "\n",
    "    # --- 結果の確認 ---\n",
    "    print(f\"入力 x のShape: {x.shape}\")\n",
    "    print(f\"パラメータ t のShape: {t.shape}\")\n",
    "    print(f\"出力 y のShape: {y.shape}\")\n",
    "\n",
    "    # xとyのShapeが同じであることを確認\n",
    "    assert x.shape == y.shape\n",
    "    print(\"\\n✅ 成功: 出力 y は入力 x と同じShapeになりました。\")"
   ]
  },
  {
   "cell_type": "code",
   "execution_count": null,
   "id": "f7aa7a94",
   "metadata": {},
   "outputs": [],
   "source": []
  }
 ],
 "metadata": {
  "kernelspec": {
   "display_name": "mypy",
   "language": "python",
   "name": "python3"
  },
  "language_info": {
   "codemirror_mode": {
    "name": "ipython",
    "version": 3
   },
   "file_extension": ".py",
   "mimetype": "text/x-python",
   "name": "python",
   "nbconvert_exporter": "python",
   "pygments_lexer": "ipython3",
   "version": "3.12.11"
  }
 },
 "nbformat": 4,
 "nbformat_minor": 5
}
